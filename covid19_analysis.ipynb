{
  "nbformat": 4,
  "nbformat_minor": 0,
  "metadata": {
    "colab": {
      "name": "covid_analysis.ipynb",
      "provenance": [],
      "collapsed_sections": [],
      "authorship_tag": "ABX9TyPNMVnCjJcKWIHcUNjHYFji"
    },
    "kernelspec": {
      "name": "python3",
      "display_name": "Python 3"
    }
  },
  "cells": [
    {
      "cell_type": "code",
      "metadata": {
        "id": "aD8NZ0Vj8llP",
        "colab_type": "code",
        "colab": {}
      },
      "source": [
        "#mounting drive on colab\n",
        "from google.colab import drive\n",
        "drive.mount('/content/drive')"
      ],
      "execution_count": 0,
      "outputs": []
    },
    {
      "cell_type": "code",
      "metadata": {
        "id": "_LZqYEGYFu9R",
        "colab_type": "code",
        "colab": {}
      },
      "source": [
        "import pandas as pd"
      ],
      "execution_count": 0,
      "outputs": []
    },
    {
      "cell_type": "code",
      "metadata": {
        "id": "lS6vjxntj0P2",
        "colab_type": "code",
        "colab": {}
      },
      "source": [
        "#importing the confirmed global cases file from the JHU repository\n",
        "covid_confirmed = pd.read_csv('https://raw.githubusercontent.com/CSSEGISandData/COVID-19/master/csse_covid_19_data/csse_covid_19_time_series/time_series_covid19_confirmed_global.csv')"
      ],
      "execution_count": 0,
      "outputs": []
    },
    {
      "cell_type": "code",
      "metadata": {
        "id": "9DFL1J77kfv3",
        "colab_type": "code",
        "colab": {}
      },
      "source": [
        "covid_confirmed.head(5)"
      ],
      "execution_count": 0,
      "outputs": []
    },
    {
      "cell_type": "code",
      "metadata": {
        "id": "stP9nt0csAEF",
        "colab_type": "code",
        "colab": {}
      },
      "source": [
        "#importing the deaths global file from the JHU repository\n",
        "covid_deaths=pd.read_csv('https://raw.githubusercontent.com/CSSEGISandData/COVID-19/master/csse_covid_19_data/csse_covid_19_time_series/time_series_covid19_deaths_global.csv')"
      ],
      "execution_count": 0,
      "outputs": []
    },
    {
      "cell_type": "code",
      "metadata": {
        "id": "DJnzodIMtsQC",
        "colab_type": "code",
        "colab": {}
      },
      "source": [
        "covid_deaths.head()"
      ],
      "execution_count": 0,
      "outputs": []
    },
    {
      "cell_type": "code",
      "metadata": {
        "id": "WAZC3M5JtweL",
        "colab_type": "code",
        "colab": {}
      },
      "source": [
        "#importing the recovered global cases file from the JHU repository\n",
        "covid_recovered=pd.read_csv('https://raw.githubusercontent.com/CSSEGISandData/COVID-19/master/csse_covid_19_data/csse_covid_19_time_series/time_series_covid19_recovered_global.csv')"
      ],
      "execution_count": 0,
      "outputs": []
    },
    {
      "cell_type": "code",
      "metadata": {
        "id": "gVgJz1APuvT5",
        "colab_type": "code",
        "colab": {}
      },
      "source": [
        "covid_recovered.head()"
      ],
      "execution_count": 0,
      "outputs": []
    },
    {
      "cell_type": "code",
      "metadata": {
        "id": "HGJQvslmuxZy",
        "colab_type": "code",
        "colab": {}
      },
      "source": [
        "#converting the time series data into  \n",
        "covid_confirmed=covid_confirmed.melt(id_vars=['Province/State','Country/Region','Lat','Long'])"
      ],
      "execution_count": 0,
      "outputs": []
    },
    {
      "cell_type": "code",
      "metadata": {
        "id": "6VBT7IhKwkC_",
        "colab_type": "code",
        "colab": {}
      },
      "source": [
        "covid_confirmed.head()"
      ],
      "execution_count": 0,
      "outputs": []
    },
    {
      "cell_type": "code",
      "metadata": {
        "id": "9WSr340pxDvT",
        "colab_type": "code",
        "colab": {}
      },
      "source": [
        "#renaming the 'variable' and 'value' to suitable variables\n",
        "covid_confirmed=covid_confirmed.rename(columns={'variable':'Date','value':'Confirmed'})"
      ],
      "execution_count": 0,
      "outputs": []
    },
    {
      "cell_type": "code",
      "metadata": {
        "id": "5tFujxKlxfdb",
        "colab_type": "code",
        "colab": {}
      },
      "source": [
        "#similarly applying it to other dataframes\n",
        "covid_deaths=covid_deaths.melt(id_vars=['Province/State','Country/Region','Lat','Long'])\n",
        "covid_deaths=covid_deaths.rename(columns={'variable':'Date','value':'Deaths'})"
      ],
      "execution_count": 0,
      "outputs": []
    },
    {
      "cell_type": "code",
      "metadata": {
        "id": "c0QDfvAqxGuJ",
        "colab_type": "code",
        "colab": {}
      },
      "source": [
        "covid_recovered=covid_recovered.melt(id_vars=['Province/State','Country/Region','Lat','Long'])\n",
        "covid_recovered=covid_recovered.rename(columns={'variable':'Date','value':'Recovered'})"
      ],
      "execution_count": 0,
      "outputs": []
    },
    {
      "cell_type": "code",
      "metadata": {
        "id": "oPNAVXvnyJ20",
        "colab_type": "code",
        "colab": {}
      },
      "source": [
        "covid_deaths.head()"
      ],
      "execution_count": 0,
      "outputs": []
    },
    {
      "cell_type": "code",
      "metadata": {
        "id": "BaeE57lB3hiw",
        "colab_type": "code",
        "colab": {}
      },
      "source": [
        "#combining the three dataframes into one\n",
        "combined_df=[covid_confirmed,covid_deaths,covid_recovered]\n",
        "combined_df=[df.set_index(['Province/State','Country/Region','Lat','Long','Date']) for df in combined_df]\n",
        "combined_df=combined_df[0].join(combined_df[1:])"
      ],
      "execution_count": 0,
      "outputs": []
    },
    {
      "cell_type": "code",
      "metadata": {
        "id": "ybCH1jD-7Mbu",
        "colab_type": "code",
        "colab": {}
      },
      "source": [
        "combined_df.head()"
      ],
      "execution_count": 0,
      "outputs": []
    },
    {
      "cell_type": "code",
      "metadata": {
        "id": "4csZv6n17vcv",
        "colab_type": "code",
        "colab": {}
      },
      "source": [
        "#resetting the index\n",
        "combined_df=combined_df.reset_index()"
      ],
      "execution_count": 0,
      "outputs": []
    },
    {
      "cell_type": "code",
      "metadata": {
        "id": "D4eml20e8JJm",
        "colab_type": "code",
        "colab": {}
      },
      "source": [
        "combined_df.head()"
      ],
      "execution_count": 0,
      "outputs": []
    },
    {
      "cell_type": "code",
      "metadata": {
        "id": "hzdGRdyL8VAp",
        "colab_type": "code",
        "colab": {}
      },
      "source": [
        "#updating the default data types\n",
        "combined_df[['Lat','Long','Confirmed','Deaths','Recovered']]=combined_df[['Lat','Long','Confirmed','Deaths','Recovered']].apply(pd.to_numeric)\n",
        "combined_df[['Date']]=combined_df[['Date']].apply(pd.to_datetime)"
      ],
      "execution_count": 0,
      "outputs": []
    },
    {
      "cell_type": "code",
      "metadata": {
        "id": "gBuDGCl59ei5",
        "colab_type": "code",
        "colab": {}
      },
      "source": [
        "#renaming columns\n",
        "combined_df=combined_df.rename(columns={'Province/State':'State','Country/Region':'Country'})"
      ],
      "execution_count": 0,
      "outputs": []
    },
    {
      "cell_type": "code",
      "metadata": {
        "id": "IMc4BTn0-L97",
        "colab_type": "code",
        "colab": {}
      },
      "source": [
        "combined_df.head()"
      ],
      "execution_count": 0,
      "outputs": []
    },
    {
      "cell_type": "code",
      "metadata": {
        "id": "vLawlluT-OSF",
        "colab_type": "code",
        "colab": {}
      },
      "source": [
        "#missing values in the dataframe\n",
        "combined_df.isnull().sum()     "
      ],
      "execution_count": 0,
      "outputs": []
    },
    {
      "cell_type": "code",
      "metadata": {
        "id": "4WdxGTfmBcAY",
        "colab_type": "code",
        "colab": {}
      },
      "source": [
        "combined_df.count()"
      ],
      "execution_count": 0,
      "outputs": []
    },
    {
      "cell_type": "code",
      "metadata": {
        "id": "hkJ5rTMx64bK",
        "colab_type": "code",
        "colab": {}
      },
      "source": [
        "#many countries are mapped at Country level rather than State(China)\n",
        "combined_df.set_index('Country').filter(like='India',axis=0)"
      ],
      "execution_count": 0,
      "outputs": []
    },
    {
      "cell_type": "code",
      "metadata": {
        "id": "QxtrdPSr822H",
        "colab_type": "code",
        "colab": {}
      },
      "source": [
        "combined_df[combined_df['State'].isnull()]['Country'].value_counts()"
      ],
      "execution_count": 0,
      "outputs": []
    },
    {
      "cell_type": "code",
      "metadata": {
        "id": "4yiGbh11-doX",
        "colab_type": "code",
        "colab": {}
      },
      "source": [
        "#to fill up the null state values with capitals\n",
        "capital_df=pd.read_csv('https://raw.githubusercontent.com/icyrockcom/country-capitals/master/data/country-list.csv')"
      ],
      "execution_count": 0,
      "outputs": []
    },
    {
      "cell_type": "code",
      "metadata": {
        "id": "L_99UfIj7kga",
        "colab_type": "code",
        "colab": {}
      },
      "source": [
        "capital_df.head(50)"
      ],
      "execution_count": 0,
      "outputs": []
    },
    {
      "cell_type": "code",
      "metadata": {
        "id": "KUO7I-2u75OF",
        "colab_type": "code",
        "colab": {}
      },
      "source": [
        "#correcting the country name\n",
        "capital_df['country'].replace({\"United Kingdom; England\":\"United Kingdom\"},inplace=True)"
      ],
      "execution_count": 0,
      "outputs": []
    },
    {
      "cell_type": "code",
      "metadata": {
        "id": "fcUI53bj9HEK",
        "colab_type": "code",
        "colab": {}
      },
      "source": [
        "capital_df['country']=capital_df.country.str.lower()"
      ],
      "execution_count": 0,
      "outputs": []
    },
    {
      "cell_type": "code",
      "metadata": {
        "id": "BHvWSdod_mlv",
        "colab_type": "code",
        "colab": {}
      },
      "source": [
        "capital_df.head()"
      ],
      "execution_count": 0,
      "outputs": []
    },
    {
      "cell_type": "code",
      "metadata": {
        "id": "w_x0p_U4Cudc",
        "colab_type": "code",
        "colab": {}
      },
      "source": [
        "#easy to look up the capital value\n",
        "capital_df=capital_df.set_index('country')"
      ],
      "execution_count": 0,
      "outputs": []
    },
    {
      "cell_type": "code",
      "metadata": {
        "id": "iIE7xAXUlCXc",
        "colab_type": "code",
        "colab": {}
      },
      "source": [
        "capital_df.head()"
      ],
      "execution_count": 0,
      "outputs": []
    },
    {
      "cell_type": "code",
      "metadata": {
        "id": "6knGXff1DRtV",
        "colab_type": "code",
        "colab": {}
      },
      "source": [
        "#function to replace missing states with capitals\n",
        "def lookup_capital(country):\n",
        "  try:\n",
        "    capital=capital_df.loc[country.lower()][0]\n",
        "  except:\n",
        "    capital=\"TBF\"\n",
        "  return capital"
      ],
      "execution_count": 0,
      "outputs": []
    },
    {
      "cell_type": "code",
      "metadata": {
        "id": "MOLiHb0pDarJ",
        "colab_type": "code",
        "colab": {}
      },
      "source": [
        "combined_df_c=combined_df.copy()"
      ],
      "execution_count": 0,
      "outputs": []
    },
    {
      "cell_type": "code",
      "metadata": {
        "id": "sCtVn4G_tcec",
        "colab_type": "code",
        "colab": {}
      },
      "source": [
        "capital_df.loc['iran'][0]"
      ],
      "execution_count": 0,
      "outputs": []
    },
    {
      "cell_type": "code",
      "metadata": {
        "id": "u6xWcBlHfRWq",
        "colab_type": "code",
        "colab": {}
      },
      "source": [
        "combined_df_c[combined_df_c['Recovered'].isnull()]['Country']"
      ],
      "execution_count": 0,
      "outputs": []
    },
    {
      "cell_type": "code",
      "metadata": {
        "id": "_620ZpwgfThg",
        "colab_type": "code",
        "colab": {}
      },
      "source": [
        ""
      ],
      "execution_count": 0,
      "outputs": []
    },
    {
      "cell_type": "code",
      "metadata": {
        "id": "o6R8XG7ajus2",
        "colab_type": "code",
        "colab": {}
      },
      "source": [
        "#replacing null values with TBF\n",
        "l={'State':\"TBF\"}\n",
        "combined_df_c.fillna(l,inplace=True)"
      ],
      "execution_count": 0,
      "outputs": []
    },
    {
      "cell_type": "code",
      "metadata": {
        "id": "DRhxgpSekKqg",
        "colab_type": "code",
        "colab": {}
      },
      "source": [
        "#applying the lookup function\n",
        "combined_df_c['State']=combined_df_c.apply(lambda x: lookup_capital(x['Country']) if (x['State']== \"TBF\") else x['State'], axis=1)"
      ],
      "execution_count": 0,
      "outputs": []
    },
    {
      "cell_type": "code",
      "metadata": {
        "id": "KxDJAMKguPuN",
        "colab_type": "code",
        "colab": {}
      },
      "source": [
        "combined_df_c.head()"
      ],
      "execution_count": 0,
      "outputs": []
    },
    {
      "cell_type": "code",
      "metadata": {
        "id": "Jq3hCqYluy_U",
        "colab_type": "code",
        "colab": {}
      },
      "source": [
        "#checking for the countries still having the missing states\n",
        "combined_df_c[combined_df_c.State==\"TBF\"]['Country'].value_counts()"
      ],
      "execution_count": 0,
      "outputs": []
    },
    {
      "cell_type": "code",
      "metadata": {
        "id": "pvd5VlI9xZIv",
        "colab_type": "code",
        "colab": {}
      },
      "source": [
        "#replacing exising country names with the correct names to find the appropriate capitals\n",
        "combined_df_c[\"Country\"].replace({\"Czechia\": \"Czech Republic\", \"Holy See\": \"Vatican City\", \"Korea, South\": \"South Korea\",\"Burma\":\"Myanmar\",\"South Sudan\":\"Sudan\",\"North Macedonia\":\"Macedonia\"}, inplace=True)\n"
      ],
      "execution_count": 0,
      "outputs": []
    },
    {
      "cell_type": "code",
      "metadata": {
        "id": "0lBgiZ_sKyvh",
        "colab_type": "code",
        "colab": {}
      },
      "source": [
        ""
      ],
      "execution_count": 0,
      "outputs": []
    },
    {
      "cell_type": "code",
      "metadata": {
        "id": "AA4whtLVK__n",
        "colab_type": "code",
        "colab": {}
      },
      "source": [
        "#capital_df.loc[\"ivory coast\"][0]"
      ],
      "execution_count": 0,
      "outputs": []
    },
    {
      "cell_type": "code",
      "metadata": {
        "id": "UvV3PniTLpu-",
        "colab_type": "code",
        "colab": {}
      },
      "source": [
        "#applying the lookup function again\n",
        "combined_df_c['State']=combined_df_c.apply(lambda x: lookup_capital(x['Country']) if (x['State']== \"TBF\") else x['State'], axis=1)"
      ],
      "execution_count": 0,
      "outputs": []
    },
    {
      "cell_type": "code",
      "metadata": {
        "id": "prxTHq_vOM2R",
        "colab_type": "code",
        "colab": {}
      },
      "source": [
        "combined_df_c[combined_df_c.State==\"TBF\"]['Country'].value_counts()"
      ],
      "execution_count": 0,
      "outputs": []
    },
    {
      "cell_type": "code",
      "metadata": {
        "id": "KqsEx9FYOPix",
        "colab_type": "code",
        "colab": {}
      },
      "source": [
        "#ignoring the values with missing states after required processing\n",
        "combined_df_c['State']=combined_df_c.apply(lambda x: x['Country'] if (x['State']== \"TBF\") else x['State'], axis=1)"
      ],
      "execution_count": 0,
      "outputs": []
    },
    {
      "cell_type": "code",
      "metadata": {
        "id": "LodH_k88PEiE",
        "colab_type": "code",
        "colab": {}
      },
      "source": [
        "combined_df_c[combined_df_c.State==\"TBF\"]['Country'].value_counts()"
      ],
      "execution_count": 0,
      "outputs": []
    },
    {
      "cell_type": "code",
      "metadata": {
        "id": "JfBxoUo6PINr",
        "colab_type": "code",
        "colab": {}
      },
      "source": [
        "#combined_df_c.to_csv('covid_dataset')"
      ],
      "execution_count": 0,
      "outputs": []
    },
    {
      "cell_type": "code",
      "metadata": {
        "id": "re4Avsq2PQqf",
        "colab_type": "code",
        "colab": {}
      },
      "source": [
        "#not imputing the few missing values in revovered column as the current focus is not to create a model\n",
        "combined_df_c[combined_df_c.Recovered.isnull()]"
      ],
      "execution_count": 0,
      "outputs": []
    },
    {
      "cell_type": "code",
      "metadata": {
        "id": "BrKqnfL2RwmA",
        "colab_type": "code",
        "colab": {}
      },
      "source": [
        "#s={\"Recovered\":0}\n",
        "#combined_df_c.fillna(s,inplace=True)"
      ],
      "execution_count": 0,
      "outputs": []
    },
    {
      "cell_type": "code",
      "metadata": {
        "id": "55--nTwUR9qH",
        "colab_type": "code",
        "colab": {}
      },
      "source": [
        "#combined_df_c.isnull().sum()"
      ],
      "execution_count": 0,
      "outputs": []
    },
    {
      "cell_type": "code",
      "metadata": {
        "id": "J5aQEeY2deZ5",
        "colab_type": "code",
        "colab": {}
      },
      "source": [
        "#combined_df_c.to_csv(\"/content/drive/My Drive/covid19_data_new.csv\")"
      ],
      "execution_count": 0,
      "outputs": []
    },
    {
      "cell_type": "code",
      "metadata": {
        "id": "JD9XQbnodjIm",
        "colab_type": "code",
        "colab": {}
      },
      "source": [
        "#the revised JHU global repository has US mapped at country level\n",
        "combined_df_c[combined_df_c.Country==\"US\"]"
      ],
      "execution_count": 0,
      "outputs": []
    },
    {
      "cell_type": "code",
      "metadata": {
        "id": "13Yk1_pMnqL9",
        "colab_type": "code",
        "colab": {}
      },
      "source": [
        "#integrating the separate US data sets(confirmed and deaths) with our transformed global dataset\n",
        "conf_us=pd.read_csv('https://raw.githubusercontent.com/CSSEGISandData/COVID-19/master/csse_covid_19_data/csse_covid_19_time_series/time_series_covid19_confirmed_US.csv')"
      ],
      "execution_count": 0,
      "outputs": []
    },
    {
      "cell_type": "code",
      "metadata": {
        "id": "qWyvBu0OU-8u",
        "colab_type": "code",
        "colab": {}
      },
      "source": [
        "conf_us.head()"
      ],
      "execution_count": 0,
      "outputs": []
    },
    {
      "cell_type": "code",
      "metadata": {
        "id": "heLUY0l4VCex",
        "colab_type": "code",
        "colab": {}
      },
      "source": [
        "#dropping variable which are not required\n",
        "conf_us.drop(['UID','iso2','iso3','code3', 'FIPS','Admin2','Combined_Key'],inplace=True,axis=1)"
      ],
      "execution_count": 0,
      "outputs": []
    },
    {
      "cell_type": "code",
      "metadata": {
        "id": "iBWC6c0DVuL5",
        "colab_type": "code",
        "colab": {}
      },
      "source": [
        "conf_us.head()"
      ],
      "execution_count": 0,
      "outputs": []
    },
    {
      "cell_type": "code",
      "metadata": {
        "id": "4FM1vl5fV0BT",
        "colab_type": "code",
        "colab": {}
      },
      "source": [
        "conf_us=conf_us.melt(id_vars=['Province_State','Country_Region','Lat','Long_'])"
      ],
      "execution_count": 0,
      "outputs": []
    },
    {
      "cell_type": "code",
      "metadata": {
        "id": "6TW6_XHNWIDp",
        "colab_type": "code",
        "colab": {}
      },
      "source": [
        "conf_us.head()"
      ],
      "execution_count": 0,
      "outputs": []
    },
    {
      "cell_type": "code",
      "metadata": {
        "id": "iJ-Mq56XWJze",
        "colab_type": "code",
        "colab": {}
      },
      "source": [
        "conf_us.shape"
      ],
      "execution_count": 0,
      "outputs": []
    },
    {
      "cell_type": "code",
      "metadata": {
        "id": "3uzDhG36g49Z",
        "colab_type": "code",
        "colab": {}
      },
      "source": [
        "#renaming the columns \n",
        "conf_us.rename(columns={'Long_':'Long',\"Province_State\":\"State\",\"Country_Region\":\"Country\",\"variable\":\"Date\",\"value\":\"Confirmed\"},inplace=True)"
      ],
      "execution_count": 0,
      "outputs": []
    },
    {
      "cell_type": "code",
      "metadata": {
        "id": "6txxMQZliQmG",
        "colab_type": "code",
        "colab": {}
      },
      "source": [
        "conf_us.head()"
      ],
      "execution_count": 0,
      "outputs": []
    },
    {
      "cell_type": "code",
      "metadata": {
        "id": "fHPYX_eXiSZk",
        "colab_type": "code",
        "colab": {}
      },
      "source": [
        "#repeating the previous steps for US deaths data set\n",
        "deaths_us=pd.read_csv('https://raw.githubusercontent.com/CSSEGISandData/COVID-19/master/csse_covid_19_data/csse_covid_19_time_series/time_series_covid19_deaths_US.csv')"
      ],
      "execution_count": 0,
      "outputs": []
    },
    {
      "cell_type": "code",
      "metadata": {
        "id": "GHNUd5wiprnf",
        "colab_type": "code",
        "colab": {}
      },
      "source": [
        "deaths_us.head()"
      ],
      "execution_count": 0,
      "outputs": []
    },
    {
      "cell_type": "code",
      "metadata": {
        "id": "rcmsYZIVm69J",
        "colab_type": "code",
        "colab": {}
      },
      "source": [
        "deaths_us.drop(['UID','iso2','iso3','code3', 'FIPS','Admin2','Combined_Key',\"Population\"],inplace=True,axis=1)"
      ],
      "execution_count": 0,
      "outputs": []
    },
    {
      "cell_type": "code",
      "metadata": {
        "id": "TS5i5DzUpRVC",
        "colab_type": "code",
        "colab": {}
      },
      "source": [
        "#using melt function to convert the data into suitable format for analysis\n",
        "deaths_us=deaths_us.melt(id_vars=['Province_State','Country_Region','Lat','Long_'])"
      ],
      "execution_count": 0,
      "outputs": []
    },
    {
      "cell_type": "code",
      "metadata": {
        "id": "1FEO9gBTpV5f",
        "colab_type": "code",
        "colab": {}
      },
      "source": [
        "deaths_us.rename(columns={'Long_':'Long',\"Province_State\":\"State\",\"Country_Region\":\"Country\",\"variable\":\"Date\",\"value\":\"Deaths\"},inplace=True)"
      ],
      "execution_count": 0,
      "outputs": []
    },
    {
      "cell_type": "code",
      "metadata": {
        "id": "p_87B47Gphv7",
        "colab_type": "code",
        "colab": {}
      },
      "source": [
        "deaths_us.head()"
      ],
      "execution_count": 0,
      "outputs": []
    },
    {
      "cell_type": "code",
      "metadata": {
        "id": "k8ARB94Epj-V",
        "colab_type": "code",
        "colab": {}
      },
      "source": [
        "#combining the US confirmed and US deaths into one\n",
        "combined_df_us=[conf_us,deaths_us]\n",
        "combined_df_us=[df.set_index(['State','Country','Lat','Long','Date']) for df in combined_df_us]\n",
        "combined_df_us=pd.concat([combined_df_us[0],combined_df_us[1]],axis=1)"
      ],
      "execution_count": 0,
      "outputs": []
    },
    {
      "cell_type": "code",
      "metadata": {
        "id": "uQStEYYbv-O2",
        "colab_type": "code",
        "colab": {}
      },
      "source": [
        "combined_df_us=combined_df_us.reset_index()\n"
      ],
      "execution_count": 0,
      "outputs": []
    },
    {
      "cell_type": "code",
      "metadata": {
        "id": "n0s6Yd8iwBtI",
        "colab_type": "code",
        "colab": {}
      },
      "source": [
        "combined_df_us.head()"
      ],
      "execution_count": 0,
      "outputs": []
    },
    {
      "cell_type": "code",
      "metadata": {
        "id": "spoo2w3U1Xs4",
        "colab_type": "code",
        "colab": {}
      },
      "source": [
        "combined_df_us.tail()"
      ],
      "execution_count": 0,
      "outputs": []
    },
    {
      "cell_type": "code",
      "metadata": {
        "id": "bfbzyjqZ1drW",
        "colab_type": "code",
        "colab": {}
      },
      "source": [
        "#adding a 'Recovered' column \n",
        "import numpy as np\n",
        "combined_df_us['Recovered']= np.nan"
      ],
      "execution_count": 0,
      "outputs": []
    },
    {
      "cell_type": "code",
      "metadata": {
        "id": "iBtH_-C-1vku",
        "colab_type": "code",
        "colab": {}
      },
      "source": [
        "combined_df_us.head()"
      ],
      "execution_count": 0,
      "outputs": []
    },
    {
      "cell_type": "code",
      "metadata": {
        "id": "7JnTO4vf112Q",
        "colab_type": "code",
        "colab": {}
      },
      "source": [
        "combined_df_us.shape"
      ],
      "execution_count": 0,
      "outputs": []
    },
    {
      "cell_type": "code",
      "metadata": {
        "id": "mGtSjX4z19hv",
        "colab_type": "code",
        "colab": {}
      },
      "source": [
        "combined_df_c.tail()\n"
      ],
      "execution_count": 0,
      "outputs": []
    },
    {
      "cell_type": "code",
      "metadata": {
        "id": "1FFdQ03B4R5-",
        "colab_type": "code",
        "colab": {}
      },
      "source": [
        "#concatenating our previous Global dataset with the transormed US dataset\n",
        "combined_final=pd.concat([combined_df_c,combined_df_us],ignore_index=True)"
      ],
      "execution_count": 0,
      "outputs": []
    },
    {
      "cell_type": "code",
      "metadata": {
        "id": "HxZLDBm74VAQ",
        "colab_type": "code",
        "colab": {}
      },
      "source": [
        "combined_df_c.head()"
      ],
      "execution_count": 0,
      "outputs": []
    },
    {
      "cell_type": "code",
      "metadata": {
        "id": "I9jnmqpT98dI",
        "colab_type": "code",
        "colab": {}
      },
      "source": [
        "combined_final[['Date']]=combined_final[['Date']].apply(pd.to_datetime)"
      ],
      "execution_count": 0,
      "outputs": []
    },
    {
      "cell_type": "code",
      "metadata": {
        "id": "Ca0VsxRF-3o7",
        "colab_type": "code",
        "colab": {}
      },
      "source": [
        "combined_final.dtypes"
      ],
      "execution_count": 0,
      "outputs": []
    },
    {
      "cell_type": "code",
      "metadata": {
        "id": "psn5Wj_j-5vP",
        "colab_type": "code",
        "colab": {}
      },
      "source": [
        "combined_final.tail()"
      ],
      "execution_count": 0,
      "outputs": []
    },
    {
      "cell_type": "code",
      "metadata": {
        "id": "ctGiSbf2_Ghj",
        "colab_type": "code",
        "colab": {}
      },
      "source": [
        "combined_final.head()"
      ],
      "execution_count": 0,
      "outputs": []
    },
    {
      "cell_type": "code",
      "metadata": {
        "id": "v15JhmA__aMC",
        "colab_type": "code",
        "colab": {}
      },
      "source": [
        "#pushing the final cleaned and transformed data to drive\n",
        "combined_final.to_csv('/content/drive/My Drive/covid_final.csv')"
      ],
      "execution_count": 0,
      "outputs": []
    },
    {
      "cell_type": "code",
      "metadata": {
        "id": "c-o3RXbcAJcQ",
        "colab_type": "code",
        "colab": {}
      },
      "source": [
        ""
      ],
      "execution_count": 0,
      "outputs": []
    }
  ]
}